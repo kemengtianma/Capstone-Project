{
 "metadata": {
  "name": ""
 },
 "nbformat": 3,
 "nbformat_minor": 0,
 "worksheets": [
  {
   "cells": [
    {
     "cell_type": "raw",
     "metadata": {},
     "source": [
      "All graphs and maps are drawn based on the average scores and comments of cities and states, these data files are manipulated using the ipython notebook called Data Manipulation. Codes to test functions in the process of data manipulation is shown below:"
     ]
    },
    {
     "cell_type": "code",
     "collapsed": false,
     "input": [
      "%%file test.py\n",
      "\n",
      "import pandas as pd\n",
      "import numpy as np\n",
      "from pandas import *\n",
      "from pandas.util.testing import *\n",
      "import statsmodels.api as sm\n",
      "\n",
      "### create a test data frame\n",
      "testdf = DataFrame({'a': [1,2,3,4,5,6], 'b': [5,5,5,5,5,5], 'c': ['x','x','x','y','y','y'], 'd': ['hello','this','is','a','test','hello']})\n",
      "\n",
      "### create correct results\n",
      "result_sub = DataFrame({'column1': [5,5,5,5,5,5], 'column3': ['hello','this','is','a','test','hello']})\n",
      "\n",
      "result_avg = DataFrame({'c': ['x','y'], 'a': [2,5], 'b': [5,5]})\n",
      "result_avg = result_avg.reindex(columns=['c','a','b'])\n",
      "result_avg\n",
      "\n",
      "# 1. test subsetting\n",
      "def subset(df):\n",
      "    df = df[[1,3]]                       # choose certain columns \n",
      "    df.columns = ['column1','column3']   # add column names\n",
      "    return df\n",
      "\n",
      "def test_subset():\n",
      "    result = subset(testdf)\n",
      "    return assert_frame_equal(result, result_sub)\n",
      "\n",
      "# 2. test averaging by categories of one column\n",
      "\n",
      "def average(df):\n",
      "    avg = df.groupby(['c'], sort=False).mean() # average values by category in column c\n",
      "    avg.to_csv('avg.csv')\n",
      "    avg = read_csv('avg.csv')\n",
      "    return avg\n",
      "\n",
      "def test_avg():\n",
      "    result = average(testdf)\n",
      "    return assert_frame_equal(result, result_avg)\n",
      "\n",
      "# 3. test linear regression\n",
      "\n",
      "def linear(df):\n",
      "    x = df['a']\n",
      "    y = df['b']\n",
      "    model = sm.OLS(y, x).fit()\n",
      "    return model.params\n",
      "\n",
      "def test_linear():\n",
      "    result = round(linear(testdf), 2)\n",
      "    assert result == 1.15\n",
      "    "
     ],
     "language": "python",
     "metadata": {},
     "outputs": [
      {
       "output_type": "stream",
       "stream": "stdout",
       "text": [
        "Writing test.py\n"
       ]
      }
     ],
     "prompt_number": 20
    },
    {
     "cell_type": "code",
     "collapsed": false,
     "input": [
      "!nosetests -v test.py"
     ],
     "language": "python",
     "metadata": {},
     "outputs": [
      {
       "output_type": "stream",
       "stream": "stdout",
       "text": [
        "test.test_subset ... ok\r\n",
        "test.test_avg ... ok\r\n",
        "test.test_linear ... ok\r\n",
        "\r\n",
        "----------------------------------------------------------------------\r\n",
        "Ran 3 tests in 0.007s\r\n",
        "\r\n",
        "OK\r\n"
       ]
      }
     ],
     "prompt_number": 21
    },
    {
     "cell_type": "code",
     "collapsed": false,
     "input": [],
     "language": "python",
     "metadata": {},
     "outputs": []
    }
   ],
   "metadata": {}
  }
 ]
}